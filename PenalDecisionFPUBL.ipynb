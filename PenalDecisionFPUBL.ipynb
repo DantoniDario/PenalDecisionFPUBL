{
 "cells": [
  {
   "cell_type": "code",
   "execution_count": 1,
   "metadata": {},
   "outputs": [],
   "source": [
    "import requests\n",
    "from bs4 import BeautifulSoup\n",
    "import pandas as pd\n",
    "import re"
   ]
  },
  {
   "cell_type": "code",
   "execution_count": 2,
   "metadata": {},
   "outputs": [
    {
     "name": "stdout",
     "output_type": "stream",
     "text": [
      "Title: Décisions | Chambre administrative de la Cour de justice Cour de droit public\n"
     ]
    }
   ],
   "source": [
    "# The URL of the website you want to scrape\n",
    "url = 'https://justice.ge.ch/apps/decis/fr/ata/search?search_doc=FPUBL&sort_by=date&page_size=5000#results'  # Replace this with the desired website URL\n",
    "\n",
    "# Send an HTTP request to the URL\n",
    "response = requests.get(url)\n",
    "\n",
    "# Check if the request was successful (status code 200)\n",
    "if response.status_code == 200:\n",
    "    # Parse the HTML content of the page\n",
    "    html_content = response.content\n",
    "    soup = BeautifulSoup(html_content, 'html.parser')\n",
    "\n",
    "    # Now, you can work with the 'soup' object to extract information from the website\n",
    "    # For example, find and print the title of the webpage\n",
    "    print(\"Title:\", soup.title.get_text())\n",
    "    \n",
    "    # Find a specific element by its tag, class, id, etc.\n",
    "    specific_element = soup.find('div', class_='specific-class')  # Replace with your desired element and its attributes\n",
    "    if specific_element:\n",
    "        print(\"Specific Element:\", specific_element)\n",
    "\n",
    "    # You can extract more information as needed by navigating the HTML structure using Beautiful Soup\n",
    "\n",
    "else:\n",
    "    print(\"Failed to retrieve the webpage\")"
   ]
  },
  {
   "cell_type": "code",
   "execution_count": 23,
   "metadata": {},
   "outputs": [],
   "source": [
    "# Extract all decisions and save it in a list\n",
    "DecisionList = soup.find('div', id = 'lstDecis', class_='resultats').find_all('div', class_='list-block col-lg-12 mb-5')"
   ]
  },
  {
   "cell_type": "code",
   "execution_count": 96,
   "metadata": {},
   "outputs": [],
   "source": [
    "# Create a table where to save every decision\n",
    "df = pd.DataFrame(columns = ['Rank', 'ID', 'Title', 'Decision'])"
   ]
  },
  {
   "cell_type": "code",
   "execution_count": 97,
   "metadata": {},
   "outputs": [],
   "source": [
    "# Save every decision in the table\n",
    "for idx, decision in enumerate(DecisionList):\n",
    "    Dcs = decision.find('div', class_='decis-block__flag').get_text().strip()\n",
    "    Title = \" \".join(decision.find('h3').text.strip().split()).rsplit(',', 1)[0].strip()\n",
    "    if len(\" \".join(decision.find('h3').text.strip().split()).rsplit(',', 1)) > 1:\n",
    "        Output = \" \".join(decision.find('h3').text.strip().split()).rsplit(',', 1)[1].strip()\n",
    "    else:\n",
    "        Output = \"\"\n",
    "    df = df.append({'Rank' : idx, 'ID' : Dcs, 'Title' : Title, 'Decision' : Output,}, ignore_index = True)"
   ]
  },
  {
   "cell_type": "code",
   "execution_count": 100,
   "metadata": {},
   "outputs": [],
   "source": [
    "# Save the table in excel format in my desktop\n",
    "df.to_excel('/Users/dantoni/Desktop/DecisionFPUBL.xlsx', index=False)"
   ]
  },
  {
   "cell_type": "code",
   "execution_count": null,
   "metadata": {},
   "outputs": [],
   "source": [
    "#Check mistake 1\n",
    "#DecisionList[102].find('div', class_='decis-block__flag').get_text().strip()"
   ]
  },
  {
   "cell_type": "code",
   "execution_count": null,
   "metadata": {},
   "outputs": [],
   "source": [
    "#Check mistake 2\n",
    "#\" \".join(DecisionList[102].find('h3').text.strip().split()).rsplit(',', 1)[0].strip()"
   ]
  },
  {
   "cell_type": "code",
   "execution_count": null,
   "metadata": {},
   "outputs": [],
   "source": [
    "#Check mistake 3\n",
    "#\" \".join(DecisionList[17].find('h3').text.strip().split()).rsplit(',', 1)[1].strip()"
   ]
  },
  {
   "cell_type": "code",
   "execution_count": null,
   "metadata": {},
   "outputs": [],
   "source": []
  }
 ],
 "metadata": {
  "kernelspec": {
   "display_name": "Python 3",
   "language": "python",
   "name": "python3"
  },
  "language_info": {
   "codemirror_mode": {
    "name": "ipython",
    "version": 3
   },
   "file_extension": ".py",
   "mimetype": "text/x-python",
   "name": "python",
   "nbconvert_exporter": "python",
   "pygments_lexer": "ipython3",
   "version": "3.7.4"
  }
 },
 "nbformat": 4,
 "nbformat_minor": 2
}
